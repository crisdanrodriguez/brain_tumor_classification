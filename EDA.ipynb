{
 "cells": [
  {
   "cell_type": "markdown",
   "id": "489baea8",
   "metadata": {},
   "source": [
    "# Exploratory Data Analysis"
   ]
  },
  {
   "cell_type": "markdown",
   "id": "8e198e51",
   "metadata": {},
   "source": [
    "### Import Libraries"
   ]
  },
  {
   "cell_type": "code",
   "execution_count": null,
   "id": "c47330c6",
   "metadata": {},
   "outputs": [],
   "source": [
    "import pandas as pd \n",
    "import numpy as np\n",
    "import seaborn as sns \n",
    "import matplotlib.pyplot as plt\n",
    "%matplotlib inline\n",
    "from skimage import io\n",
    "from skimage.io import imshow"
   ]
  },
  {
   "cell_type": "markdown",
   "id": "e726d8b2",
   "metadata": {},
   "source": [
    "### Loadind Data"
   ]
  },
  {
   "cell_type": "code",
   "execution_count": null,
   "id": "f1c12330",
   "metadata": {},
   "outputs": [],
   "source": [
    "# Read CSV file into DataFrame\n",
    "data = pd.read_csv('data/brain_tumor_dataset.csv', index_col = 0)\n",
    "\n",
    "# Print DataFrame\n",
    "data"
   ]
  },
  {
   "cell_type": "markdown",
   "id": "3fd7767b",
   "metadata": {},
   "source": [
    "### Basic Description of the Data"
   ]
  },
  {
   "cell_type": "code",
   "execution_count": null,
   "id": "f032974f",
   "metadata": {},
   "outputs": [],
   "source": [
    "# Identification of data types\n",
    "data.dtypes"
   ]
  },
  {
   "cell_type": "code",
   "execution_count": null,
   "id": "417484dc",
   "metadata": {},
   "outputs": [],
   "source": [
    "# Size of dataset\n",
    "data.shape"
   ]
  },
  {
   "cell_type": "code",
   "execution_count": null,
   "id": "a8157648",
   "metadata": {},
   "outputs": [],
   "source": [
    "# Statistical summary for numeric variables\n",
    "data.describe()"
   ]
  },
  {
   "cell_type": "markdown",
   "id": "733cee3c",
   "metadata": {},
   "source": [
    "### Target Variable Countplot"
   ]
  },
  {
   "cell_type": "code",
   "execution_count": null,
   "id": "d5d1010c",
   "metadata": {},
   "outputs": [],
   "source": [
    "# Adjust figure size\n",
    "plt.figure(figsize = (15, 6))\n",
    "\n",
    "# Set darkgrid style for all matplotlib and seaborn plots\n",
    "sns.set_theme(style = \"darkgrid\")\n",
    "\n",
    "# Show the number of observations in each class\n",
    "sns.countplot(data = data, x = 'label_name')\n",
    "\n",
    "# Adjust graph title and labels title\n",
    "plt.title('Number of images for each class', fontweight = 'bold')\n",
    "plt.xlabel('Class')\n",
    "plt.ylabel('Count')\n",
    "plt.show()"
   ]
  },
  {
   "cell_type": "markdown",
   "id": "b3fc9b34",
   "metadata": {},
   "source": [
    "### Sample Image from Each Class"
   ]
  },
  {
   "cell_type": "code",
   "execution_count": null,
   "id": "18013e5e",
   "metadata": {},
   "outputs": [],
   "source": [
    "# Path for each image\n",
    "nt_image = 'data/Training/no_tumor/image (30).jpg'\n",
    "gt_image = 'data/Training/glioma_tumor/gg (486).jpg'\n",
    "mt_image = 'data/Training/meningioma_tumor/m (4).jpg'\n",
    "pt_image = 'data/Training/pituitary_tumor/p (731).jpg'\n",
    "\n",
    "# Adjust figures size\n",
    "plt.figure(figsize = (20, 20))\n",
    "\n",
    "# Main title for all image subplots\n",
    "plt.suptitle('Sample images from each class', fontweight = 'bold', fontsize = 14, y = 0.64)\n",
    "\n",
    "# Show no tumor sample image\n",
    "plt.subplot(1,4,1)\n",
    "io.imshow(nt_image)\n",
    "plt.title('No Tumor')\n",
    "plt.grid(False)\n",
    "plt.axis('off')\n",
    "\n",
    "# Show glioma tumor sample image\n",
    "plt.subplot(1,4,2)\n",
    "io.imshow(gt_image)\n",
    "plt.title('Glioma Tumor')\n",
    "plt.grid(False)\n",
    "plt.axis('off')\n",
    "\n",
    "# Show meningioma tumor sample image\n",
    "plt.subplot(1,4,3)\n",
    "io.imshow(mt_image)\n",
    "plt.title('Meningioma Tumor')\n",
    "plt.grid(False)\n",
    "plt.axis('off')\n",
    "\n",
    "# Show pituitary tumor sample image\n",
    "plt.subplot(1,4,4)\n",
    "io.imshow(pt_image)\n",
    "plt.title('Pituitary Tumor')\n",
    "plt.grid(False)\n",
    "plt.axis('off')"
   ]
  },
  {
   "cell_type": "markdown",
   "id": "072fcd00",
   "metadata": {},
   "source": [
    "### Feature Correlation Heat Map"
   ]
  },
  {
   "cell_type": "code",
   "execution_count": null,
   "id": "00c7341f",
   "metadata": {},
   "outputs": [],
   "source": [
    "# Adjust figure size\n",
    "plt.figure(figsize = (15, 10))\n",
    "\n",
    "# Shows a heatmap of the correlation between the variables\n",
    "sns.heatmap(data.corr(method = 'pearson'), vmin= -0.5, vmax=1, annot=True)"
   ]
  },
  {
   "cell_type": "markdown",
   "id": "086a3044",
   "metadata": {},
   "source": [
    "### Distributions of First Order Features for All Classes"
   ]
  },
  {
   "cell_type": "code",
   "execution_count": null,
   "id": "f7c78c73",
   "metadata": {},
   "outputs": [],
   "source": [
    "# Adjust figures size\n",
    "plt.figure(figsize = (20, 20))\n",
    "\n",
    "# Main title for all first order features subplots\n",
    "plt.suptitle('Distributions of first order features for all classes', fontweight = 'bold', fontsize = 14, y = 0.91)\n",
    "\n",
    "# Plot mean distribution for each class using kernel densisty estimation\n",
    "plt.subplot(3,2,1)\n",
    "sns.kdeplot(data = data, x = 'mean', hue = 'label', shade = True)\n",
    "plt.xlabel('Mean')\n",
    "plt.legend(['Pituitary Tumor', 'Meningioma Tumor', 'Glioma Tumor', 'No Tumor'])\n",
    "\n",
    "# Plot variance distribution for each class using kernel densisty estimation\n",
    "plt.subplot(3,2,2)\n",
    "sns.kdeplot(data = data, x = 'variance', hue = 'label', shade = True)\n",
    "plt.xlabel('Variance')\n",
    "plt.legend(['Pituitary Tumor', 'Meningioma Tumor', 'Glioma Tumor', 'No Tumor'])\n",
    "\n",
    "# Plot standard deviation distribution for each class using kernel densisty estimation\n",
    "plt.subplot(3,2,3)\n",
    "sns.kdeplot(data = data, x = 'std', hue = 'label', shade = True)\n",
    "plt.xlabel('Standard Deviation')\n",
    "plt.legend(['Pituitary Tumor', 'Meningioma Tumor', 'Glioma Tumor', 'No Tumor'])\n",
    "\n",
    "# Plot skewness distribution for each class using kernel densisty estimation\n",
    "plt.subplot(3,2,4)\n",
    "sns.kdeplot(data = data, x = 'skewness', hue = 'label', shade = True)\n",
    "plt.xlabel('Skewness')\n",
    "plt.legend(['Pituitary Tumor', 'Meningioma Tumor', 'Glioma Tumor', 'No Tumor'])\n",
    "\n",
    "# Plot kurtosis distribution for each class using kernel densisty estimation\n",
    "plt.subplot(3,2,5)\n",
    "sns.kdeplot(data = data, x = 'kurtosis', hue = 'label', shade = True)\n",
    "plt.xlabel('Kurtosis')\n",
    "plt.legend(['Pituitary Tumor', 'Meningioma Tumor', 'Glioma Tumor', 'No Tumor'])"
   ]
  },
  {
   "cell_type": "markdown",
   "id": "2dd93d51",
   "metadata": {},
   "source": [
    "### Distributions of Second Order Features for All Classes"
   ]
  },
  {
   "cell_type": "code",
   "execution_count": null,
   "id": "fb56b3fe",
   "metadata": {},
   "outputs": [],
   "source": [
    "# Adjust figures size\n",
    "plt.figure(figsize = (20, 20))\n",
    "\n",
    "# Main title for all second order features subplots\n",
    "plt.suptitle('Distributions of second order features for all classes', fontweight = 'bold', fontsize = 14, y = 0.91)\n",
    "\n",
    "# Plot entropy distribution for each class using kernel densisty estimation\n",
    "plt.subplot(4,2,1)\n",
    "sns.kdeplot(data = data, x = 'entropy', hue = 'label', shade = True)\n",
    "plt.xlabel('Entropy')\n",
    "plt.legend(['Pituitary Tumor', 'Meningioma Tumor', 'Glioma Tumor', 'No Tumor'], loc = 'upper left')\n",
    "\n",
    "# Plot contrast distribution for each class using kernel densisty estimation\n",
    "plt.subplot(4,2,2)\n",
    "sns.kdeplot(data = data, x = 'contrast', hue = 'label', shade = True)\n",
    "plt.xlabel('Contrast')\n",
    "plt.legend(['Pituitary Tumor', 'Meningioma Tumor', 'Glioma Tumor', 'No Tumor'])\n",
    "\n",
    "# Plot dissimilarity distribution for each class using kernel densisty estimation\n",
    "plt.subplot(4,2,3)\n",
    "sns.kdeplot(data = data, x = 'dissimilarity', hue = 'label', shade = True)\n",
    "plt.xlabel('Dissimilarity')\n",
    "plt.legend(['Pituitary Tumor', 'Meningioma Tumor', 'Glioma Tumor', 'No Tumor'])\n",
    "\n",
    "# Plot homogeneity distribution for each class using kernel densisty estimation\n",
    "plt.subplot(4,2,4)\n",
    "sns.kdeplot(data = data, x = 'homogeneity', hue = 'label', shade = True)\n",
    "plt.xlabel('Homogeneity')\n",
    "plt.legend(['Pituitary Tumor', 'Meningioma Tumor', 'Glioma Tumor', 'No Tumor'])\n",
    "\n",
    "# Plot ASM distribution for each class using kernel densisty estimation\n",
    "plt.subplot(4,2,5)\n",
    "sns.kdeplot(data = data, x = 'asm', hue = 'label', shade = True)\n",
    "plt.xlabel('ASM')\n",
    "plt.legend(['Pituitary Tumor', 'Meningioma Tumor', 'Glioma Tumor', 'No Tumor'])\n",
    "\n",
    "# Plot energy distribution for each class using kernel densisty estimation\n",
    "plt.subplot(4,2,6)\n",
    "sns.kdeplot(data = data, x = 'energy', hue = 'label', shade = True)\n",
    "plt.xlabel('Energy')\n",
    "plt.legend(['Pituitary Tumor', 'Meningioma Tumor', 'Glioma Tumor', 'No Tumor'])\n",
    "\n",
    "# Plot correlation distribution for each class using kernel densisty estimation\n",
    "plt.subplot(4,2,7)\n",
    "sns.kdeplot(data = data, x = 'correlation', hue = 'label', shade = True)\n",
    "plt.xlabel('Correlation')\n",
    "plt.legend(['Pituitary Tumor', 'Meningioma Tumor', 'Glioma Tumor', 'No Tumor'], loc = 'upper left')"
   ]
  }
 ],
 "metadata": {
  "kernelspec": {
   "display_name": "Python 3 (ipykernel)",
   "language": "python",
   "name": "python3"
  },
  "language_info": {
   "codemirror_mode": {
    "name": "ipython",
    "version": 3
   },
   "file_extension": ".py",
   "mimetype": "text/x-python",
   "name": "python",
   "nbconvert_exporter": "python",
   "pygments_lexer": "ipython3",
   "version": "3.10.4"
  }
 },
 "nbformat": 4,
 "nbformat_minor": 5
}
